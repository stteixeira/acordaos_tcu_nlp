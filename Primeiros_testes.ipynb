{
 "cells": [
  {
   "cell_type": "code",
   "execution_count": 1,
   "metadata": {},
   "outputs": [],
   "source": [
    "import sqlite3\n",
    "\n",
    "import nltk\n",
    "import numpy as np\n",
    "import pandas as pd\n",
    "\n",
    "from sklearn.pipeline import Pipeline\n",
    "from sklearn.feature_extraction.text import TfidfVectorizer\n",
    "from sklearn.svm import LinearSVC\n",
    "from sklearn.naive_bayes import MultinomialNB\n",
    "from sklearn.model_selection import train_test_split, cross_val_score\n",
    "from sklearn import metrics"
   ]
  },
  {
   "cell_type": "code",
   "execution_count": 2,
   "metadata": {},
   "outputs": [],
   "source": [
    "cnxn = sqlite3.connect('tcu-acordaos.db')\n",
    "\n",
    "df = pd.read_sql_query(\"SELECT * from acordaos\", cnxn)"
   ]
  },
  {
   "cell_type": "code",
   "execution_count": 3,
   "metadata": {},
   "outputs": [
    {
     "data": {
      "text/html": [
       "<div>\n",
       "<style scoped>\n",
       "    .dataframe tbody tr th:only-of-type {\n",
       "        vertical-align: middle;\n",
       "    }\n",
       "\n",
       "    .dataframe tbody tr th {\n",
       "        vertical-align: top;\n",
       "    }\n",
       "\n",
       "    .dataframe thead th {\n",
       "        text-align: right;\n",
       "    }\n",
       "</style>\n",
       "<table border=\"1\" class=\"dataframe\">\n",
       "  <thead>\n",
       "    <tr style=\"text-align: right;\">\n",
       "      <th></th>\n",
       "      <th>id</th>\n",
       "      <th>urn</th>\n",
       "      <th>ano_acordao</th>\n",
       "      <th>numero_acordao</th>\n",
       "      <th>relator</th>\n",
       "      <th>processo</th>\n",
       "      <th>tipo_processo</th>\n",
       "      <th>data_sessao</th>\n",
       "      <th>numero_ata</th>\n",
       "      <th>interessado_reponsavel_recorrente</th>\n",
       "      <th>entidade</th>\n",
       "      <th>representante_mp</th>\n",
       "      <th>unidade_tecnica</th>\n",
       "      <th>repr_legal</th>\n",
       "      <th>assunto</th>\n",
       "      <th>sumario</th>\n",
       "      <th>acordao</th>\n",
       "      <th>quorum</th>\n",
       "      <th>relatorio</th>\n",
       "      <th>voto</th>\n",
       "    </tr>\n",
       "  </thead>\n",
       "  <tbody>\n",
       "    <tr>\n",
       "      <th>0</th>\n",
       "      <td>1</td>\n",
       "      <td>urn:lex:br:tribunal.contas.uniao;camara.1:acor...</td>\n",
       "      <td>2000</td>\n",
       "      <td>1</td>\n",
       "      <td>WALTON ALENCAR RODRIGUES</td>\n",
       "      <td>300.002/1997-1 007.885/1999-7 008.166/1999-4 0...</td>\n",
       "      <td></td>\n",
       "      <td>25/01/2000</td>\n",
       "      <td>01/2000-Primeira Câmara</td>\n",
       "      <td></td>\n",
       "      <td></td>\n",
       "      <td></td>\n",
       "      <td></td>\n",
       "      <td></td>\n",
       "      <td></td>\n",
       "      <td></td>\n",
       "      <td>ACÓRDÃO: Os Ministros do Tribunal de Contas da...</td>\n",
       "      <td></td>\n",
       "      <td></td>\n",
       "      <td></td>\n",
       "    </tr>\n",
       "    <tr>\n",
       "      <th>1</th>\n",
       "      <td>2</td>\n",
       "      <td>urn:lex:br:tribunal.contas.uniao;camara.1:acor...</td>\n",
       "      <td>2000</td>\n",
       "      <td>2</td>\n",
       "      <td>JOSÉ ANTÔNIO BARRETO DE MACEDO</td>\n",
       "      <td>012.895/1994-6</td>\n",
       "      <td></td>\n",
       "      <td>25/01/2000</td>\n",
       "      <td>01/2000-Primeira Câmara</td>\n",
       "      <td></td>\n",
       "      <td></td>\n",
       "      <td></td>\n",
       "      <td></td>\n",
       "      <td></td>\n",
       "      <td></td>\n",
       "      <td></td>\n",
       "      <td>ACÓRDÃO: Os Ministros do Tribunal de Contas da...</td>\n",
       "      <td></td>\n",
       "      <td></td>\n",
       "      <td></td>\n",
       "    </tr>\n",
       "  </tbody>\n",
       "</table>\n",
       "</div>"
      ],
      "text/plain": [
       "   id                                                urn  ano_acordao  \\\n",
       "0   1  urn:lex:br:tribunal.contas.uniao;camara.1:acor...         2000   \n",
       "1   2  urn:lex:br:tribunal.contas.uniao;camara.1:acor...         2000   \n",
       "\n",
       "  numero_acordao                         relator  \\\n",
       "0              1        WALTON ALENCAR RODRIGUES   \n",
       "1              2  JOSÉ ANTÔNIO BARRETO DE MACEDO   \n",
       "\n",
       "                                            processo tipo_processo  \\\n",
       "0  300.002/1997-1 007.885/1999-7 008.166/1999-4 0...                 \n",
       "1                                     012.895/1994-6                 \n",
       "\n",
       "  data_sessao               numero_ata interessado_reponsavel_recorrente  \\\n",
       "0  25/01/2000  01/2000-Primeira Câmara                                     \n",
       "1  25/01/2000  01/2000-Primeira Câmara                                     \n",
       "\n",
       "  entidade representante_mp unidade_tecnica repr_legal assunto sumario  \\\n",
       "0                                                                        \n",
       "1                                                                        \n",
       "\n",
       "                                             acordao quorum relatorio voto  \n",
       "0  ACÓRDÃO: Os Ministros do Tribunal de Contas da...                        \n",
       "1  ACÓRDÃO: Os Ministros do Tribunal de Contas da...                        "
      ]
     },
     "execution_count": 3,
     "metadata": {},
     "output_type": "execute_result"
    }
   ],
   "source": [
    "df.head(2)"
   ]
  },
  {
   "cell_type": "code",
   "execution_count": 4,
   "metadata": {},
   "outputs": [],
   "source": [
    "df.to_csv('tcu.csv')"
   ]
  },
  {
   "cell_type": "code",
   "execution_count": 5,
   "metadata": {},
   "outputs": [
    {
     "data": {
      "text/plain": [
       "Index(['id', 'urn', 'ano_acordao', 'numero_acordao', 'relator', 'processo',\n",
       "       'tipo_processo', 'data_sessao', 'numero_ata',\n",
       "       'interessado_reponsavel_recorrente', 'entidade', 'representante_mp',\n",
       "       'unidade_tecnica', 'repr_legal', 'assunto', 'sumario', 'acordao',\n",
       "       'quorum', 'relatorio', 'voto'],\n",
       "      dtype='object')"
      ]
     },
     "execution_count": 5,
     "metadata": {},
     "output_type": "execute_result"
    }
   ],
   "source": [
    "df.columns"
   ]
  },
  {
   "cell_type": "code",
   "execution_count": 9,
   "metadata": {},
   "outputs": [
    {
     "data": {
      "text/html": [
       "<div>\n",
       "<style scoped>\n",
       "    .dataframe tbody tr th:only-of-type {\n",
       "        vertical-align: middle;\n",
       "    }\n",
       "\n",
       "    .dataframe tbody tr th {\n",
       "        vertical-align: top;\n",
       "    }\n",
       "\n",
       "    .dataframe thead th {\n",
       "        text-align: right;\n",
       "    }\n",
       "</style>\n",
       "<table border=\"1\" class=\"dataframe\">\n",
       "  <thead>\n",
       "    <tr style=\"text-align: right;\">\n",
       "      <th></th>\n",
       "      <th>ano_acordao</th>\n",
       "      <th>numero_acordao</th>\n",
       "      <th>acordao</th>\n",
       "    </tr>\n",
       "  </thead>\n",
       "  <tbody>\n",
       "    <tr>\n",
       "      <th>0</th>\n",
       "      <td>2000</td>\n",
       "      <td>1</td>\n",
       "      <td>ACÓRDÃO: Os Ministros do Tribunal de Contas da...</td>\n",
       "    </tr>\n",
       "    <tr>\n",
       "      <th>1</th>\n",
       "      <td>2000</td>\n",
       "      <td>2</td>\n",
       "      <td>ACÓRDÃO: Os Ministros do Tribunal de Contas da...</td>\n",
       "    </tr>\n",
       "  </tbody>\n",
       "</table>\n",
       "</div>"
      ],
      "text/plain": [
       "   ano_acordao numero_acordao  \\\n",
       "0         2000              1   \n",
       "1         2000              2   \n",
       "\n",
       "                                             acordao  \n",
       "0  ACÓRDÃO: Os Ministros do Tribunal de Contas da...  \n",
       "1  ACÓRDÃO: Os Ministros do Tribunal de Contas da...  "
      ]
     },
     "execution_count": 9,
     "metadata": {},
     "output_type": "execute_result"
    }
   ],
   "source": [
    "dfResumo = df[[\"ano_acordao\",\"numero_acordao\",\"acordao\"]]\n",
    "dfResumo.head(2)\n"
   ]
  },
  {
   "cell_type": "code",
   "execution_count": 21,
   "metadata": {},
   "outputs": [],
   "source": [
    "dfResumo[\"ano_acordao\"] = dfResumo[\"ano_acordao\"].map(str)\n",
    "dfResumo[\"numero_acordao\"] = dfResumo[\"numero_acordao\"].map(str)"
   ]
  },
  {
   "cell_type": "code",
   "execution_count": 23,
   "metadata": {},
   "outputs": [],
   "source": [
    "dfResumo[\"num_ano_acordao\"] = dfResumo[\"ano_acordao\"] + \"_\" +  dfResumo[\"numero_acordao\"]"
   ]
  },
  {
   "cell_type": "code",
   "execution_count": 24,
   "metadata": {},
   "outputs": [
    {
     "data": {
      "text/plain": [
       "0    2000_1\n",
       "1    2000_2\n",
       "Name: num_ano_acordao, dtype: object"
      ]
     },
     "execution_count": 24,
     "metadata": {},
     "output_type": "execute_result"
    }
   ],
   "source": [
    "dfResumo[\"num_ano_acordao\"].head(2)"
   ]
  },
  {
   "cell_type": "code",
   "execution_count": null,
   "metadata": {},
   "outputs": [],
   "source": [
    "df.ano_acordao.count()"
   ]
  },
  {
   "cell_type": "code",
   "execution_count": null,
   "metadata": {},
   "outputs": [],
   "source": [
    "max(lth(df.acordao))"
   ]
  },
  {
   "cell_type": "code",
   "execution_count": null,
   "metadata": {},
   "outputs": [],
   "source": []
  }
 ],
 "metadata": {
  "kernelspec": {
   "display_name": "Python 3",
   "language": "python",
   "name": "python3"
  },
  "language_info": {
   "codemirror_mode": {
    "name": "ipython",
    "version": 3
   },
   "file_extension": ".py",
   "mimetype": "text/x-python",
   "name": "python",
   "nbconvert_exporter": "python",
   "pygments_lexer": "ipython3",
   "version": "3.6.5"
  }
 },
 "nbformat": 4,
 "nbformat_minor": 2
}
